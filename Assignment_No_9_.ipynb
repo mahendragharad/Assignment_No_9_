{
  "nbformat": 4,
  "nbformat_minor": 0,
  "metadata": {
    "colab": {
      "provenance": []
    },
    "kernelspec": {
      "name": "python3",
      "display_name": "Python 3"
    },
    "language_info": {
      "name": "python"
    }
  },
  "cells": [
    {
      "cell_type": "markdown",
      "source": [
        "**1. Write a Python program to check if the given number is a Disarium Number?**"
      ],
      "metadata": {
        "id": "f4oenOEi9vwY"
      }
    },
    {
      "cell_type": "code",
      "execution_count": 1,
      "metadata": {
        "id": "wYVjVhqZ9oRl"
      },
      "outputs": [],
      "source": [
        "def check_disarium(n) :\n",
        "    str_n = str(n)\n",
        "\n",
        "    n_str = str(n)\n",
        "    count = [n_str.index(i)+1 for i in n_str]\n",
        "\n",
        "    value = 0\n",
        "    for i, j in zip(str_n, count):\n",
        "        value = value + int(i) ** int(j)\n",
        "\n",
        "    if n == value :\n",
        "        return f\"{n} is the disarium number\"\n",
        "    else :\n",
        "        return f\"{n} is not disarium number\""
      ]
    },
    {
      "cell_type": "code",
      "source": [
        "check_disarium(135)"
      ],
      "metadata": {
        "colab": {
          "base_uri": "https://localhost:8080/",
          "height": 36
        },
        "id": "gAwKnn0892nq",
        "outputId": "99f53ce1-0714-467a-b785-81940df87ebb"
      },
      "execution_count": 2,
      "outputs": [
        {
          "output_type": "execute_result",
          "data": {
            "text/plain": [
              "'135 is the disarium number'"
            ],
            "application/vnd.google.colaboratory.intrinsic+json": {
              "type": "string"
            }
          },
          "metadata": {},
          "execution_count": 2
        }
      ]
    },
    {
      "cell_type": "code",
      "source": [
        "check_disarium(13)"
      ],
      "metadata": {
        "colab": {
          "base_uri": "https://localhost:8080/",
          "height": 36
        },
        "id": "M6OBzTd3983J",
        "outputId": "d3fd7f4f-d023-4645-a5f9-3d37de2df2d3"
      },
      "execution_count": 3,
      "outputs": [
        {
          "output_type": "execute_result",
          "data": {
            "text/plain": [
              "'13 is not disarium number'"
            ],
            "application/vnd.google.colaboratory.intrinsic+json": {
              "type": "string"
            }
          },
          "metadata": {},
          "execution_count": 3
        }
      ]
    },
    {
      "cell_type": "markdown",
      "source": [
        "\n",
        "\n",
        "---\n",
        "\n"
      ],
      "metadata": {
        "id": "sknYkGkb-AFF"
      }
    },
    {
      "cell_type": "markdown",
      "source": [
        "**2. Write a Python program to print all disarium numbers between 1 to 100?**"
      ],
      "metadata": {
        "id": "bESIQxhV-BX9"
      }
    },
    {
      "cell_type": "code",
      "source": [
        "def check_disarium(n):\n",
        "    str_n = str(n)\n",
        "    n_str = str(n)\n",
        "    count = [n_str.index(i) + 1 for i in n_str]\n",
        "\n",
        "    value = 0\n",
        "    for i, j in zip(str_n, count):\n",
        "        value = value + int(i) ** int(j)\n",
        "\n",
        "    if n == value:\n",
        "        return True  # Return a boolean value instead of a string\n",
        "    else:\n",
        "        return False\n",
        "\n",
        "disarium_numbers = [x for x in range(1, 100) if check_disarium(x)]\n",
        "\n",
        "print(f\"Disarium numbers between 1 and 100: {disarium_numbers}\")"
      ],
      "metadata": {
        "colab": {
          "base_uri": "https://localhost:8080/"
        },
        "id": "237l1fLk9-25",
        "outputId": "d97c1721-a93c-4886-b77e-2e46ad3f3a23"
      },
      "execution_count": 4,
      "outputs": [
        {
          "output_type": "stream",
          "name": "stdout",
          "text": [
            "Disarium numbers between 1 and 100: [1, 2, 3, 4, 5, 6, 7, 8, 9, 89]\n"
          ]
        }
      ]
    },
    {
      "cell_type": "markdown",
      "source": [
        "\n",
        "\n",
        "---\n",
        "\n",
        "\n",
        "\n"
      ],
      "metadata": {
        "id": "5EjzYHXEAeQy"
      }
    },
    {
      "cell_type": "markdown",
      "source": [
        "**3. Write a Python program to check if the given number is Happy Number?**\n"
      ],
      "metadata": {
        "id": "OP372TMfAgeO"
      }
    },
    {
      "cell_type": "code",
      "source": [
        "def check_happy(n):\n",
        "    m = n\n",
        "    seen = set()  # Keep track of numbers seen to detect cycles\n",
        "    while m != 1 and m not in seen:\n",
        "        seen.add(m)\n",
        "        ans = 0\n",
        "        for i in str(m):\n",
        "            ans += int(i) ** 2\n",
        "        m = ans\n",
        "    if m == 1:\n",
        "        return f\"{n} is a happy number\"\n",
        "    else:\n",
        "        return f\"{n} is not a happy number\"\n"
      ],
      "metadata": {
        "id": "820gFgjY_NBV"
      },
      "execution_count": 5,
      "outputs": []
    },
    {
      "cell_type": "code",
      "source": [
        " check_happy(32)\n"
      ],
      "metadata": {
        "id": "3I4ELoZmGtyT",
        "colab": {
          "base_uri": "https://localhost:8080/",
          "height": 36
        },
        "outputId": "305a1298-bff6-43c1-b64b-b0c144ffbd5d"
      },
      "execution_count": 6,
      "outputs": [
        {
          "output_type": "execute_result",
          "data": {
            "text/plain": [
              "'32 is a happy number'"
            ],
            "application/vnd.google.colaboratory.intrinsic+json": {
              "type": "string"
            }
          },
          "metadata": {},
          "execution_count": 6
        }
      ]
    },
    {
      "cell_type": "code",
      "source": [
        " check_happy(99)"
      ],
      "metadata": {
        "colab": {
          "base_uri": "https://localhost:8080/",
          "height": 36
        },
        "id": "oBotlgFm-U2I",
        "outputId": "327c323c-da13-4ec2-833a-e715f858d877"
      },
      "execution_count": 7,
      "outputs": [
        {
          "output_type": "execute_result",
          "data": {
            "text/plain": [
              "'99 is not a happy number'"
            ],
            "application/vnd.google.colaboratory.intrinsic+json": {
              "type": "string"
            }
          },
          "metadata": {},
          "execution_count": 7
        }
      ]
    },
    {
      "cell_type": "markdown",
      "source": [
        "\n",
        "\n",
        "---\n",
        "\n"
      ],
      "metadata": {
        "id": "m6_Cvoxf-y7S"
      }
    },
    {
      "cell_type": "markdown",
      "source": [
        "**4. Write a Python program to print all happy numbers between 1 and 100?**"
      ],
      "metadata": {
        "id": "r1cPAhmV-0pP"
      }
    },
    {
      "cell_type": "code",
      "source": [
        "def check_happy(n):\n",
        "    m = n\n",
        "    seen = set()  # Keep track of numbers seen to detect cycles\n",
        "    while m != 1 and m not in seen:\n",
        "        seen.add(m)\n",
        "        ans = 0\n",
        "        for i in str(m):\n",
        "            ans += int(i) ** 2\n",
        "        m = ans\n",
        "    if m == 1:\n",
        "      return True\n",
        "    else :\n",
        "      return False\n",
        "\n",
        "x = [ i for i in range(1,100) if check_happy(i) ]\n",
        "\n",
        "print(f\"happy numbers between 1 to 100 {x}\")"
      ],
      "metadata": {
        "colab": {
          "base_uri": "https://localhost:8080/"
        },
        "id": "hPI7UHR--yBi",
        "outputId": "3ad38552-536e-4c72-ee98-4b85a20dec8f"
      },
      "execution_count": 10,
      "outputs": [
        {
          "output_type": "stream",
          "name": "stdout",
          "text": [
            "happy numbers between 1 to 100 [1, 7, 10, 13, 19, 23, 28, 31, 32, 44, 49, 68, 70, 79, 82, 86, 91, 94, 97]\n"
          ]
        }
      ]
    },
    {
      "cell_type": "markdown",
      "source": [
        "\n",
        "\n",
        "---\n",
        "\n"
      ],
      "metadata": {
        "id": "kpM4Z3P1_fWH"
      }
    },
    {
      "cell_type": "markdown",
      "source": [
        "**5. Write a Python program to determine whether the given number is a Harshad Number?**"
      ],
      "metadata": {
        "id": "IYQ5prPt_kJw"
      }
    },
    {
      "cell_type": "code",
      "source": [
        "def check_harshad(n):\n",
        "    add = 0\n",
        "    for i in str(n):\n",
        "        add += int(i)\n",
        "    if n % add == 0:\n",
        "        return f\"{n} is a Harshad number\"\n",
        "    else:\n",
        "        return f\"{n} is not a Harshad number\"\n"
      ],
      "metadata": {
        "id": "pRRDc_tt_Vc5"
      },
      "execution_count": 11,
      "outputs": []
    },
    {
      "cell_type": "code",
      "source": [
        "check_harshad(23)"
      ],
      "metadata": {
        "colab": {
          "base_uri": "https://localhost:8080/",
          "height": 36
        },
        "id": "2xrELBjJBQdI",
        "outputId": "64327e8c-97d9-47ef-b7de-db84fce4a4cf"
      },
      "execution_count": 12,
      "outputs": [
        {
          "output_type": "execute_result",
          "data": {
            "text/plain": [
              "'23 is not a Harshad number'"
            ],
            "application/vnd.google.colaboratory.intrinsic+json": {
              "type": "string"
            }
          },
          "metadata": {},
          "execution_count": 12
        }
      ]
    },
    {
      "cell_type": "code",
      "source": [
        "check_harshad(24)"
      ],
      "metadata": {
        "colab": {
          "base_uri": "https://localhost:8080/",
          "height": 36
        },
        "id": "fJ7QUDEWBTUd",
        "outputId": "3b2980b4-da41-4839-8529-1821de4ace0d"
      },
      "execution_count": 13,
      "outputs": [
        {
          "output_type": "execute_result",
          "data": {
            "text/plain": [
              "'24 is a Harshad number'"
            ],
            "application/vnd.google.colaboratory.intrinsic+json": {
              "type": "string"
            }
          },
          "metadata": {},
          "execution_count": 13
        }
      ]
    },
    {
      "cell_type": "markdown",
      "source": [
        "\n",
        "\n",
        "---\n",
        "\n"
      ],
      "metadata": {
        "id": "A21A9_UEBWmU"
      }
    },
    {
      "cell_type": "markdown",
      "source": [
        "**6. Write a Python program to print all pronic numbers between 1 and 100?**"
      ],
      "metadata": {
        "id": "TBj0XhzpBb4n"
      }
    },
    {
      "cell_type": "code",
      "source": [
        "def check_pronic(n) :\n",
        "    for i in range(1,n+1) :\n",
        "        a = i\n",
        "        b = i+1\n",
        "        if a*b == n :\n",
        "            return True\n",
        "    else :\n",
        "        return False"
      ],
      "metadata": {
        "id": "FSdRKUlqBVlU"
      },
      "execution_count": 14,
      "outputs": []
    },
    {
      "cell_type": "code",
      "source": [
        "check_pronic(2)"
      ],
      "metadata": {
        "colab": {
          "base_uri": "https://localhost:8080/"
        },
        "id": "uMYmkGcYFFsN",
        "outputId": "b1fb922a-7e2b-43fe-9e5e-9da03eccab5c"
      },
      "execution_count": 15,
      "outputs": [
        {
          "output_type": "execute_result",
          "data": {
            "text/plain": [
              "True"
            ]
          },
          "metadata": {},
          "execution_count": 15
        }
      ]
    },
    {
      "cell_type": "code",
      "source": [
        "check_pronic(77)"
      ],
      "metadata": {
        "colab": {
          "base_uri": "https://localhost:8080/"
        },
        "id": "StwCEhtKFIJT",
        "outputId": "2e534b0d-fdaa-4ec2-9f6e-e2452feb1bac"
      },
      "execution_count": 16,
      "outputs": [
        {
          "output_type": "execute_result",
          "data": {
            "text/plain": [
              "False"
            ]
          },
          "metadata": {},
          "execution_count": 16
        }
      ]
    },
    {
      "cell_type": "markdown",
      "source": [
        "\n",
        "\n",
        "---\n",
        "\n"
      ],
      "metadata": {
        "id": "lLRQCY9YFKbK"
      }
    }
  ]
}